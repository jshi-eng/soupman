{
 "cells": [
  {
   "cell_type": "code",
   "execution_count": 9,
   "metadata": {},
   "outputs": [],
   "source": [
    "from keras import optimizers, losses\n",
    "from keras import backend as K\n",
    "from keras.models import Sequential, Model\n",
    "from keras.layers import Lambda, Dense, Input, Dropout, Embedding, LSTM\n",
    "from keras.optimizers import RMSprop, Adam, Nadam\n",
    "from keras.preprocessing import sequence\n",
    "from keras.losses import mse, binary_crossentropy"
   ]
  },
  {
   "cell_type": "code",
   "execution_count": 2,
   "metadata": {},
   "outputs": [],
   "source": [
    "from sklearn.preprocessing import StandardScaler, MinMaxScaler\n",
    "from sklearn.model_selection import train_test_split\n",
    "from sklearn.metrics import confusion_matrix, roc_auc_score"
   ]
  },
  {
   "cell_type": "code",
   "execution_count": 3,
   "metadata": {},
   "outputs": [],
   "source": [
    "import seaborn as sns\n",
    "import pandas as pd\n",
    "import numpy as np\n",
    "import matplotlib.pyplot as plt\n",
    "import matplotlib.gridspec as gridspec\n",
    "%matplotlib inline"
   ]
  },
  {
   "cell_type": "code",
   "execution_count": 19,
   "metadata": {},
   "outputs": [],
   "source": [
    "class Visualization:\n",
    "    labels = [\"Normal\", \"Anomaly\"]\n",
    "    \n",
    "    def draw_confusion_matrix(self,y,ypred):\n",
    "        matrix = confusion_matrix(y,ypred)\n",
    "        plt.figure(figsize=(10,8))\n",
    "        colors = [\"orange\",\"green\"]\n",
    "        sns.heatmap(matrix,xticklabels=self.labels,yticklabels=self.labels,\n",
    "                   cmap=colors, annot=True, fmt=\"d\")\n",
    "        plt.title(\"Confusion Matrix\")\n",
    "        plt.ylabel('Actual')\n",
    "        plt.xlabel('Actual')\n",
    "        plt.xlabel('Predicted')\n",
    "        \n",
    "    def draw_anomaly(self,y,error,threshold):\n",
    "        groupsDF = pd.DataFrame({'error': error,'true': y}).groupby('true')\n",
    "        \n",
    "        figure, axes = plt.subplots(figsize=(12,8))\n",
    "        \n",
    "        for name, group in groupsDF:\n",
    "            axes.plot(group.index, group.error, marker='x' if name == 1 \n",
    "                      else 'o', linestyle='', color='r' if name == 1\n",
    "                     else 'g', label=\"Anomaly\" if name==1 else \"Normal\")\n",
    "        \n",
    "        axes.hlines(threshold,axes.get_xlim()[0],axes.get_xlim()[1],colors=\"b\",\n",
    "                   zorder=100,label='Threshold')\n",
    "        axes.legend()\n",
    "        plt.title(\"Anomalies\")\n",
    "        plt.ylabel(\"Error\")\n",
    "        plt.xlabel(\"Data\")\n",
    "        \n",
    "    def draw_error(self,error,threshold):\n",
    "        plt.plot(error,marker='o',ms=3.5,linestyle='',label='Point')\n",
    "        \n",
    "        plt.hlines(threshold,xmin=0,xmax=len(error)-1,colors=\"b\",zorder=100,\n",
    "                  label='Threshold')\n",
    "        plt.legend()\n",
    "        plt.title(\"Reconstruction error\")\n",
    "        plt.ylabel(\"Error\")\n",
    "        plt.xlabel(\"Data\")"
   ]
  },
  {
   "cell_type": "code",
   "execution_count": 5,
   "metadata": {},
   "outputs": [],
   "source": [
    "df = pd.read_csv('C:/Users/timsh/.spyder-py3/credit_card.csv')"
   ]
  },
  {
   "cell_type": "code",
   "execution_count": 6,
   "metadata": {},
   "outputs": [
    {
     "data": {
      "text/html": [
       "<div>\n",
       "<style scoped>\n",
       "    .dataframe tbody tr th:only-of-type {\n",
       "        vertical-align: middle;\n",
       "    }\n",
       "\n",
       "    .dataframe tbody tr th {\n",
       "        vertical-align: top;\n",
       "    }\n",
       "\n",
       "    .dataframe thead th {\n",
       "        text-align: right;\n",
       "    }\n",
       "</style>\n",
       "<table border=\"1\" class=\"dataframe\">\n",
       "  <thead>\n",
       "    <tr style=\"text-align: right;\">\n",
       "      <th></th>\n",
       "      <th>Time</th>\n",
       "      <th>V1</th>\n",
       "      <th>V2</th>\n",
       "      <th>V3</th>\n",
       "      <th>V4</th>\n",
       "      <th>V5</th>\n",
       "      <th>V6</th>\n",
       "      <th>V7</th>\n",
       "      <th>V8</th>\n",
       "      <th>V9</th>\n",
       "      <th>...</th>\n",
       "      <th>V21</th>\n",
       "      <th>V22</th>\n",
       "      <th>V23</th>\n",
       "      <th>V24</th>\n",
       "      <th>V25</th>\n",
       "      <th>V26</th>\n",
       "      <th>V27</th>\n",
       "      <th>V28</th>\n",
       "      <th>Amount</th>\n",
       "      <th>Class</th>\n",
       "    </tr>\n",
       "  </thead>\n",
       "  <tbody>\n",
       "    <tr>\n",
       "      <th>0</th>\n",
       "      <td>0.0</td>\n",
       "      <td>-1.359807</td>\n",
       "      <td>-0.072781</td>\n",
       "      <td>2.536347</td>\n",
       "      <td>1.378155</td>\n",
       "      <td>-0.338321</td>\n",
       "      <td>0.462388</td>\n",
       "      <td>0.239599</td>\n",
       "      <td>0.098698</td>\n",
       "      <td>0.363787</td>\n",
       "      <td>...</td>\n",
       "      <td>-0.018307</td>\n",
       "      <td>0.277838</td>\n",
       "      <td>-0.110474</td>\n",
       "      <td>0.066928</td>\n",
       "      <td>0.128539</td>\n",
       "      <td>-0.189115</td>\n",
       "      <td>0.133558</td>\n",
       "      <td>-0.021053</td>\n",
       "      <td>149.62</td>\n",
       "      <td>0</td>\n",
       "    </tr>\n",
       "    <tr>\n",
       "      <th>1</th>\n",
       "      <td>0.0</td>\n",
       "      <td>1.191857</td>\n",
       "      <td>0.266151</td>\n",
       "      <td>0.166480</td>\n",
       "      <td>0.448154</td>\n",
       "      <td>0.060018</td>\n",
       "      <td>-0.082361</td>\n",
       "      <td>-0.078803</td>\n",
       "      <td>0.085102</td>\n",
       "      <td>-0.255425</td>\n",
       "      <td>...</td>\n",
       "      <td>-0.225775</td>\n",
       "      <td>-0.638672</td>\n",
       "      <td>0.101288</td>\n",
       "      <td>-0.339846</td>\n",
       "      <td>0.167170</td>\n",
       "      <td>0.125895</td>\n",
       "      <td>-0.008983</td>\n",
       "      <td>0.014724</td>\n",
       "      <td>2.69</td>\n",
       "      <td>0</td>\n",
       "    </tr>\n",
       "    <tr>\n",
       "      <th>2</th>\n",
       "      <td>1.0</td>\n",
       "      <td>-1.358354</td>\n",
       "      <td>-1.340163</td>\n",
       "      <td>1.773209</td>\n",
       "      <td>0.379780</td>\n",
       "      <td>-0.503198</td>\n",
       "      <td>1.800499</td>\n",
       "      <td>0.791461</td>\n",
       "      <td>0.247676</td>\n",
       "      <td>-1.514654</td>\n",
       "      <td>...</td>\n",
       "      <td>0.247998</td>\n",
       "      <td>0.771679</td>\n",
       "      <td>0.909412</td>\n",
       "      <td>-0.689281</td>\n",
       "      <td>-0.327642</td>\n",
       "      <td>-0.139097</td>\n",
       "      <td>-0.055353</td>\n",
       "      <td>-0.059752</td>\n",
       "      <td>378.66</td>\n",
       "      <td>0</td>\n",
       "    </tr>\n",
       "    <tr>\n",
       "      <th>3</th>\n",
       "      <td>1.0</td>\n",
       "      <td>-0.966272</td>\n",
       "      <td>-0.185226</td>\n",
       "      <td>1.792993</td>\n",
       "      <td>-0.863291</td>\n",
       "      <td>-0.010309</td>\n",
       "      <td>1.247203</td>\n",
       "      <td>0.237609</td>\n",
       "      <td>0.377436</td>\n",
       "      <td>-1.387024</td>\n",
       "      <td>...</td>\n",
       "      <td>-0.108300</td>\n",
       "      <td>0.005274</td>\n",
       "      <td>-0.190321</td>\n",
       "      <td>-1.175575</td>\n",
       "      <td>0.647376</td>\n",
       "      <td>-0.221929</td>\n",
       "      <td>0.062723</td>\n",
       "      <td>0.061458</td>\n",
       "      <td>123.50</td>\n",
       "      <td>0</td>\n",
       "    </tr>\n",
       "    <tr>\n",
       "      <th>4</th>\n",
       "      <td>2.0</td>\n",
       "      <td>-1.158233</td>\n",
       "      <td>0.877737</td>\n",
       "      <td>1.548718</td>\n",
       "      <td>0.403034</td>\n",
       "      <td>-0.407193</td>\n",
       "      <td>0.095921</td>\n",
       "      <td>0.592941</td>\n",
       "      <td>-0.270533</td>\n",
       "      <td>0.817739</td>\n",
       "      <td>...</td>\n",
       "      <td>-0.009431</td>\n",
       "      <td>0.798278</td>\n",
       "      <td>-0.137458</td>\n",
       "      <td>0.141267</td>\n",
       "      <td>-0.206010</td>\n",
       "      <td>0.502292</td>\n",
       "      <td>0.219422</td>\n",
       "      <td>0.215153</td>\n",
       "      <td>69.99</td>\n",
       "      <td>0</td>\n",
       "    </tr>\n",
       "  </tbody>\n",
       "</table>\n",
       "<p>5 rows × 31 columns</p>\n",
       "</div>"
      ],
      "text/plain": [
       "   Time        V1        V2        V3        V4        V5        V6        V7  \\\n",
       "0   0.0 -1.359807 -0.072781  2.536347  1.378155 -0.338321  0.462388  0.239599   \n",
       "1   0.0  1.191857  0.266151  0.166480  0.448154  0.060018 -0.082361 -0.078803   \n",
       "2   1.0 -1.358354 -1.340163  1.773209  0.379780 -0.503198  1.800499  0.791461   \n",
       "3   1.0 -0.966272 -0.185226  1.792993 -0.863291 -0.010309  1.247203  0.237609   \n",
       "4   2.0 -1.158233  0.877737  1.548718  0.403034 -0.407193  0.095921  0.592941   \n",
       "\n",
       "         V8        V9  ...       V21       V22       V23       V24       V25  \\\n",
       "0  0.098698  0.363787  ... -0.018307  0.277838 -0.110474  0.066928  0.128539   \n",
       "1  0.085102 -0.255425  ... -0.225775 -0.638672  0.101288 -0.339846  0.167170   \n",
       "2  0.247676 -1.514654  ...  0.247998  0.771679  0.909412 -0.689281 -0.327642   \n",
       "3  0.377436 -1.387024  ... -0.108300  0.005274 -0.190321 -1.175575  0.647376   \n",
       "4 -0.270533  0.817739  ... -0.009431  0.798278 -0.137458  0.141267 -0.206010   \n",
       "\n",
       "        V26       V27       V28  Amount  Class  \n",
       "0 -0.189115  0.133558 -0.021053  149.62      0  \n",
       "1  0.125895 -0.008983  0.014724    2.69      0  \n",
       "2 -0.139097 -0.055353 -0.059752  378.66      0  \n",
       "3 -0.221929  0.062723  0.061458  123.50      0  \n",
       "4  0.502292  0.219422  0.215153   69.99      0  \n",
       "\n",
       "[5 rows x 31 columns]"
      ]
     },
     "execution_count": 6,
     "metadata": {},
     "output_type": "execute_result"
    }
   ],
   "source": [
    "df.head()"
   ]
  },
  {
   "cell_type": "code",
   "execution_count": 7,
   "metadata": {},
   "outputs": [],
   "source": [
    "df['Amount'] = StandardScaler().fit_transform(df['Amount'].values.reshape(-1,1))\n",
    "df0 = df.query('Class==0').sample(20000)\n",
    "df1 = df.query('Class==1').sample(400)\n",
    "df = pd.concat([df0,df1])"
   ]
  },
  {
   "cell_type": "code",
   "execution_count": 8,
   "metadata": {},
   "outputs": [],
   "source": [
    "x_train,x_test,y_train,y_test = train_test_split(df.drop(labels=['Time','Class'],axis=1),\n",
    "                                                df['Class'],test_size=0.2,random_state=42)"
   ]
  },
  {
   "cell_type": "code",
   "execution_count": 10,
   "metadata": {},
   "outputs": [],
   "source": [
    "# reparameterization trick\n",
    "def sampling(args):\n",
    "    z_mean, z_log_var = args\n",
    "    batch = K.shape(z_mean)[0]\n",
    "    dim = K.int_shape(z_mean)[1]\n",
    "    epsilon = K.random_normal(shape=(batch,dim))\n",
    "    return z_mean + K.exp(0.5*z_log_var)*epsilon"
   ]
  },
  {
   "cell_type": "code",
   "execution_count": 11,
   "metadata": {},
   "outputs": [
    {
     "name": "stdout",
     "output_type": "stream",
     "text": [
      "29\n",
      "Model: \"encoder\"\n",
      "__________________________________________________________________________________________________\n",
      "Layer (type)                    Output Shape         Param #     Connected to                     \n",
      "==================================================================================================\n",
      "encoder_input (InputLayer)      (None, 29)           0                                            \n",
      "__________________________________________________________________________________________________\n",
      "dense_1 (Dense)                 (None, 12)           360         encoder_input[0][0]              \n",
      "__________________________________________________________________________________________________\n",
      "z_mean (Dense)                  (None, 2)            26          dense_1[0][0]                    \n",
      "__________________________________________________________________________________________________\n",
      "z_log_var (Dense)               (None, 2)            26          dense_1[0][0]                    \n",
      "__________________________________________________________________________________________________\n",
      "z (Lambda)                      (None, 2)            0           z_mean[0][0]                     \n",
      "                                                                 z_log_var[0][0]                  \n",
      "==================================================================================================\n",
      "Total params: 412\n",
      "Trainable params: 412\n",
      "Non-trainable params: 0\n",
      "__________________________________________________________________________________________________\n",
      "Model: \"decoder\"\n",
      "_________________________________________________________________\n",
      "Layer (type)                 Output Shape              Param #   \n",
      "=================================================================\n",
      "z_sampling (InputLayer)      (None, 2)                 0         \n",
      "_________________________________________________________________\n",
      "dense_2 (Dense)              (None, 12)                36        \n",
      "_________________________________________________________________\n",
      "dense_3 (Dense)              (None, 29)                377       \n",
      "=================================================================\n",
      "Total params: 413\n",
      "Trainable params: 413\n",
      "Non-trainable params: 0\n",
      "_________________________________________________________________\n"
     ]
    }
   ],
   "source": [
    "original_dim = x_train.shape[1]\n",
    "print(original_dim)\n",
    "\n",
    "input_shape = (original_dim,)\n",
    "intermediate_dim = 12 # encode 29 columns of input into 12 features\n",
    "batch_size = 32\n",
    "latent_dim = 2 # two parallel layers\n",
    "epochs = 20\n",
    "\n",
    "# VAE model = encoder + decoder\n",
    "# build encoder model\n",
    "\n",
    "inputs = Input(shape=input_shape,name='encoder_input')\n",
    "x = Dense(intermediate_dim,activation='relu')(inputs)\n",
    "z_mean = Dense(latent_dim,name='z_mean')(x)\n",
    "z_log_var = Dense(latent_dim,name='z_log_var')(x)\n",
    "\n",
    "z = Lambda(sampling,output_shape=(latent_dim,),name='z')([z_mean,z_log_var])\n",
    "\n",
    "# instantiate encoder model\n",
    "encoder = Model(inputs,[z_mean,z_log_var,z],name='encoder')\n",
    "encoder.summary()\n",
    "\n",
    "# build decoder model\n",
    "latent_inputs = Input(shape=(latent_dim,),name='z_sampling')\n",
    "x = Dense(intermediate_dim,activation='relu')(latent_inputs)\n",
    "outputs = Dense(original_dim,activation='sigmoid')(x)\n",
    "\n",
    "# instantiate decoder model\n",
    "decoder = Model(latent_inputs,outputs,name='decoder')\n",
    "decoder.summary()\n",
    "\n",
    "# instantiate VAE model\n",
    "outputs = decoder(encoder(inputs)[2])\n",
    "vae = Model(inputs,outputs,name='vae_mlp')\n",
    "\n",
    "# VAE Loss\n",
    "reconstruction_loss = mse(inputs,outputs)\n",
    "\n",
    "reconstruction_loss *= original_dim\n",
    "kl_loss = 1 + z_log_var - K.square(z_mean) - K.exp(z_log_var)\n",
    "kl_loss = K.sum(kl_loss, axis=-1)\n",
    "kl_loss *= -0.5\n",
    "vae_loss = K.mean(reconstruction_loss + kl_loss)\n",
    "vae.add_loss(vae_loss)"
   ]
  },
  {
   "cell_type": "code",
   "execution_count": 12,
   "metadata": {},
   "outputs": [
    {
     "name": "stdout",
     "output_type": "stream",
     "text": [
      "Model: \"vae_mlp\"\n",
      "_________________________________________________________________\n",
      "Layer (type)                 Output Shape              Param #   \n",
      "=================================================================\n",
      "encoder_input (InputLayer)   (None, 29)                0         \n",
      "_________________________________________________________________\n",
      "encoder (Model)              [(None, 2), (None, 2), (N 412       \n",
      "_________________________________________________________________\n",
      "decoder (Model)              (None, 29)                413       \n",
      "=================================================================\n",
      "Total params: 825\n",
      "Trainable params: 825\n",
      "Non-trainable params: 0\n",
      "_________________________________________________________________\n"
     ]
    }
   ],
   "source": [
    "# compile the model using adam\n",
    "# Adam is an optimization algorithm that can be used instead of the classical SGD procedure\n",
    "# to update network weights iteratively\n",
    "vae.compile(optimizer='adam',loss='mean_squared_error',metrics=['accuracy'])\n",
    "vae.summary()"
   ]
  },
  {
   "cell_type": "code",
   "execution_count": 14,
   "metadata": {},
   "outputs": [
    {
     "name": "stdout",
     "output_type": "stream",
     "text": [
      "Train on 16320 samples, validate on 4080 samples\n",
      "Epoch 1/20\n",
      "16320/16320 [==============================] - 1s 51us/step - loss: 51.4281 - accuracy: 0.0859 - val_loss: 46.5529 - val_accuracy: 0.1017\n",
      "Epoch 2/20\n",
      "16320/16320 [==============================] - 1s 34us/step - loss: 47.7466 - accuracy: 0.1211 - val_loss: 45.6452 - val_accuracy: 0.1257\n",
      "Epoch 3/20\n",
      "16320/16320 [==============================] - 1s 34us/step - loss: 47.3216 - accuracy: 0.1350 - val_loss: 45.4167 - val_accuracy: 0.1397\n",
      "Epoch 4/20\n",
      "16320/16320 [==============================] - 1s 33us/step - loss: 47.1532 - accuracy: 0.1546 - val_loss: 45.2769 - val_accuracy: 0.1691\n",
      "Epoch 5/20\n",
      "16320/16320 [==============================] - 1s 34us/step - loss: 47.0385 - accuracy: 0.1833 - val_loss: 45.2041 - val_accuracy: 0.1924\n",
      "Epoch 6/20\n",
      "16320/16320 [==============================] - 1s 34us/step - loss: 46.9808 - accuracy: 0.2162 - val_loss: 45.0794 - val_accuracy: 0.2495\n",
      "Epoch 7/20\n",
      "16320/16320 [==============================] - 1s 34us/step - loss: 46.8279 - accuracy: 0.2607 - val_loss: 44.9267 - val_accuracy: 0.2784\n",
      "Epoch 8/20\n",
      "16320/16320 [==============================] - 1s 34us/step - loss: 46.6810 - accuracy: 0.2928 - val_loss: 44.7975 - val_accuracy: 0.3098\n",
      "Epoch 9/20\n",
      "16320/16320 [==============================] - 1s 34us/step - loss: 46.5559 - accuracy: 0.3262 - val_loss: 44.6979 - val_accuracy: 0.3373\n",
      "Epoch 10/20\n",
      "16320/16320 [==============================] - 1s 33us/step - loss: 46.5073 - accuracy: 0.3334 - val_loss: 44.6201 - val_accuracy: 0.3392\n",
      "Epoch 11/20\n",
      "16320/16320 [==============================] - 1s 35us/step - loss: 46.4184 - accuracy: 0.3374 - val_loss: 44.5366 - val_accuracy: 0.3417\n",
      "Epoch 12/20\n",
      "16320/16320 [==============================] - 1s 33us/step - loss: 46.3356 - accuracy: 0.3374 - val_loss: 44.5024 - val_accuracy: 0.3392\n",
      "Epoch 13/20\n",
      "16320/16320 [==============================] - 1s 34us/step - loss: 46.3212 - accuracy: 0.3396 - val_loss: 44.4565 - val_accuracy: 0.3407\n",
      "Epoch 14/20\n",
      "16320/16320 [==============================] - 1s 39us/step - loss: 46.2894 - accuracy: 0.3432 - val_loss: 44.4383 - val_accuracy: 0.3412\n",
      "Epoch 15/20\n",
      "16320/16320 [==============================] - 1s 36us/step - loss: 46.2248 - accuracy: 0.3472 - val_loss: 44.3954 - val_accuracy: 0.3402\n",
      "Epoch 16/20\n",
      "16320/16320 [==============================] - 1s 34us/step - loss: 46.1805 - accuracy: 0.3459 - val_loss: 44.3862 - val_accuracy: 0.3451\n",
      "Epoch 17/20\n",
      "16320/16320 [==============================] - 1s 37us/step - loss: 46.1383 - accuracy: 0.3456 - val_loss: 44.3789 - val_accuracy: 0.3434\n",
      "Epoch 18/20\n",
      "16320/16320 [==============================] - 1s 33us/step - loss: 46.0977 - accuracy: 0.3509 - val_loss: 44.3167 - val_accuracy: 0.3598\n",
      "Epoch 19/20\n",
      "16320/16320 [==============================] - 1s 33us/step - loss: 46.0774 - accuracy: 0.3531 - val_loss: 44.3112 - val_accuracy: 0.3542\n",
      "Epoch 20/20\n",
      "16320/16320 [==============================] - 1s 34us/step - loss: 46.0314 - accuracy: 0.3510 - val_loss: 44.2095 - val_accuracy: 0.3502\n"
     ]
    }
   ],
   "source": [
    "history = vae.fit(x_train,x_train,batch_size=batch_size,epochs=epochs,verbose=1,\n",
    "                 shuffle=True,validation_data=(x_test,x_test))"
   ]
  },
  {
   "cell_type": "code",
   "execution_count": 15,
   "metadata": {},
   "outputs": [
    {
     "name": "stdout",
     "output_type": "stream",
     "text": [
      "4080/4080 [==============================] - 0s 13us/step\n",
      "Test loss: 44.25501521989411\n",
      "Test accuracy: 0.3446078300476074\n"
     ]
    }
   ],
   "source": [
    "score = vae.evaluate(x_test,x_test,verbose=1)\n",
    "print('Test loss:', score[0])\n",
    "print('Test accuracy:', score[1])"
   ]
  },
  {
   "cell_type": "code",
   "execution_count": 16,
   "metadata": {},
   "outputs": [],
   "source": [
    "threshold= 10.00\n",
    "y_pred = vae.predict(x_test)\n",
    "y_dist = np.linalg.norm(x_test - y_pred, axis=-1)\n",
    "z = zip(y_dist >= threshold, y_dist)\n",
    "y_label = []\n",
    "error = []\n",
    "for idx, (is_anomaly, y_dist) in enumerate(z):\n",
    "    if is_anomaly:\n",
    "        y_label.append(1)\n",
    "    else:\n",
    "        y_label.append(0)\n",
    "    error.append(y_dist)"
   ]
  },
  {
   "cell_type": "code",
   "execution_count": 17,
   "metadata": {},
   "outputs": [
    {
     "data": {
      "text/plain": [
       "0.8795561380939666"
      ]
     },
     "execution_count": 17,
     "metadata": {},
     "output_type": "execute_result"
    }
   ],
   "source": [
    "roc_auc_score(y_test,y_label)"
   ]
  },
  {
   "cell_type": "code",
   "execution_count": 20,
   "metadata": {},
   "outputs": [
    {
     "data": {
      "image/png": "[encoded data removed]",
      "text/plain": [
       "<Figure size 720x576 with 2 Axes>"
      ]
     },
     "metadata": {
      "needs_background": "light"
     },
     "output_type": "display_data"
    }
   ],
   "source": [
    "viz = Visualization()\n",
    "viz.draw_confusion_matrix(y_test,y_label)"
   ]
  },
  {
   "cell_type": "code",
   "execution_count": 21,
   "metadata": {},
   "outputs": [
    {
     "data": {
      "image/png": "[encoded data removed]",
      "text/plain": [
       "<Figure size 864x576 with 1 Axes>"
      ]
     },
     "metadata": {
      "needs_background": "light"
     },
     "output_type": "display_data"
    }
   ],
   "source": [
    "viz.draw_anomaly(y_test,error,threshold)"
   ]
  },
  {
   "cell_type": "code",
   "execution_count": null,
   "metadata": {},
   "outputs": [],
   "source": []
  }
 ],
 "metadata": {
  "kernelspec": {
   "display_name": "Python 3",
   "language": "python",
   "name": "python3"
  },
  "language_info": {
   "codemirror_mode": {
    "name": "ipython",
    "version": 3
   },
   "file_extension": ".py",
   "mimetype": "text/x-python",
   "name": "python",
   "nbconvert_exporter": "python",
   "pygments_lexer": "ipython3",
   "version": "3.7.6"
  }
 },
 "nbformat": 4,
 "nbformat_minor": 4
}
